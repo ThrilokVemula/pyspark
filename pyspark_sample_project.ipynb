{
  "nbformat": 4,
  "nbformat_minor": 0,
  "metadata": {
    "colab": {
      "provenance": []
    },
    "kernelspec": {
      "name": "python3",
      "display_name": "Python 3"
    },
    "language_info": {
      "name": "python"
    }
  },
  "cells": [
    {
      "cell_type": "markdown",
      "source": [
        "Installing Pyspark"
      ],
      "metadata": {
        "id": "6g5ddvB-MfZD"
      }
    },
    {
      "cell_type": "code",
      "execution_count": 36,
      "metadata": {
        "colab": {
          "base_uri": "https://localhost:8080/"
        },
        "id": "KWZU2dp27hUQ",
        "outputId": "afdd3d3d-c163-40ae-9c91-fa8b6a7dccac"
      },
      "outputs": [
        {
          "output_type": "stream",
          "name": "stdout",
          "text": [
            "Requirement already satisfied: pyspark in /usr/local/lib/python3.10/dist-packages (3.5.1)\n",
            "Collecting databricks\n",
            "  Downloading databricks-0.2-py2.py3-none-any.whl (1.2 kB)\n",
            "Requirement already satisfied: py4j==0.10.9.7 in /usr/local/lib/python3.10/dist-packages (from pyspark) (0.10.9.7)\n",
            "Installing collected packages: databricks\n",
            "Successfully installed databricks-0.2\n"
          ]
        }
      ],
      "source": [
        "!pip install pyspark databricks"
      ]
    },
    {
      "cell_type": "markdown",
      "source": [
        "Importing Libraries\n"
      ],
      "metadata": {
        "id": "np8eBnSmMYbo"
      }
    },
    {
      "cell_type": "code",
      "source": [
        "import pyspark\n",
        "from pyspark.sql import SparkSession\n",
        "from pyspark.sql.types import StructType, StructField, StringType, IntegerType, DoubleType\n",
        "from pyspark.sql.functions import *\n",
        "from databricks import *"
      ],
      "metadata": {
        "id": "E4vE98Q37lL6"
      },
      "execution_count": 51,
      "outputs": []
    },
    {
      "cell_type": "markdown",
      "source": [
        "Creating Dataframe"
      ],
      "metadata": {
        "id": "2pDfK4Z5M5_v"
      }
    },
    {
      "cell_type": "code",
      "source": [
        "spark = SparkSession.builder.appName('pyspark-project').getOrCreate()\n",
        "\n",
        "df = spark.read.load('/content/sample_data/googleplaystore.csv',format='csv',sep=',',header='true',inferschema='true',escape='\"')\n",
        "\n",
        "df.show()"
      ],
      "metadata": {
        "colab": {
          "base_uri": "https://localhost:8080/"
        },
        "id": "LT6UnlHWM408",
        "outputId": "77a86dd7-78ca-4c58-917e-6b6acfe5edc2"
      },
      "execution_count": 7,
      "outputs": [
        {
          "output_type": "stream",
          "name": "stdout",
          "text": [
            "+--------------------+--------------+------+-------+----+-----------+----+-----+--------------+--------------------+------------------+------------------+------------+\n",
            "|                 App|      Category|Rating|Reviews|Size|   Installs|Type|Price|Content Rating|              Genres|      Last Updated|       Current Ver| Android Ver|\n",
            "+--------------------+--------------+------+-------+----+-----------+----+-----+--------------+--------------------+------------------+------------------+------------+\n",
            "|Photo Editor & Ca...|ART_AND_DESIGN|   4.1|    159| 19M|    10,000+|Free|    0|      Everyone|        Art & Design|   January 7, 2018|             1.0.0|4.0.3 and up|\n",
            "| Coloring book moana|ART_AND_DESIGN|   3.9|    967| 14M|   500,000+|Free|    0|      Everyone|Art & Design;Pret...|  January 15, 2018|             2.0.0|4.0.3 and up|\n",
            "|U Launcher Lite –...|ART_AND_DESIGN|   4.7|  87510|8.7M| 5,000,000+|Free|    0|      Everyone|        Art & Design|    August 1, 2018|             1.2.4|4.0.3 and up|\n",
            "|Sketch - Draw & P...|ART_AND_DESIGN|   4.5| 215644| 25M|50,000,000+|Free|    0|          Teen|        Art & Design|      June 8, 2018|Varies with device|  4.2 and up|\n",
            "|Pixel Draw - Numb...|ART_AND_DESIGN|   4.3|    967|2.8M|   100,000+|Free|    0|      Everyone|Art & Design;Crea...|     June 20, 2018|               1.1|  4.4 and up|\n",
            "|Paper flowers ins...|ART_AND_DESIGN|   4.4|    167|5.6M|    50,000+|Free|    0|      Everyone|        Art & Design|    March 26, 2017|               1.0|  2.3 and up|\n",
            "|Smoke Effect Phot...|ART_AND_DESIGN|   3.8|    178| 19M|    50,000+|Free|    0|      Everyone|        Art & Design|    April 26, 2018|               1.1|4.0.3 and up|\n",
            "|    Infinite Painter|ART_AND_DESIGN|   4.1|  36815| 29M| 1,000,000+|Free|    0|      Everyone|        Art & Design|     June 14, 2018|          6.1.61.1|  4.2 and up|\n",
            "|Garden Coloring Book|ART_AND_DESIGN|   4.4|  13791| 33M| 1,000,000+|Free|    0|      Everyone|        Art & Design|September 20, 2017|             2.9.2|  3.0 and up|\n",
            "|Kids Paint Free -...|ART_AND_DESIGN|   4.7|    121|3.1M|    10,000+|Free|    0|      Everyone|Art & Design;Crea...|      July 3, 2018|               2.8|4.0.3 and up|\n",
            "|Text on Photo - F...|ART_AND_DESIGN|   4.4|  13880| 28M| 1,000,000+|Free|    0|      Everyone|        Art & Design|  October 27, 2017|             1.0.4|  4.1 and up|\n",
            "|Name Art Photo Ed...|ART_AND_DESIGN|   4.4|   8788| 12M| 1,000,000+|Free|    0|      Everyone|        Art & Design|     July 31, 2018|            1.0.15|  4.0 and up|\n",
            "|Tattoo Name On My...|ART_AND_DESIGN|   4.2|  44829| 20M|10,000,000+|Free|    0|          Teen|        Art & Design|     April 2, 2018|               3.8|  4.1 and up|\n",
            "|Mandala Coloring ...|ART_AND_DESIGN|   4.6|   4326| 21M|   100,000+|Free|    0|      Everyone|        Art & Design|     June 26, 2018|             1.0.4|  4.4 and up|\n",
            "|3D Color Pixel by...|ART_AND_DESIGN|   4.4|   1518| 37M|   100,000+|Free|    0|      Everyone|        Art & Design|    August 3, 2018|             1.2.3|  2.3 and up|\n",
            "|Learn To Draw Kaw...|ART_AND_DESIGN|   3.2|     55|2.7M|     5,000+|Free|    0|      Everyone|        Art & Design|      June 6, 2018|               NaN|  4.2 and up|\n",
            "|Photo Designer - ...|ART_AND_DESIGN|   4.7|   3632|5.5M|   500,000+|Free|    0|      Everyone|        Art & Design|     July 31, 2018|               3.1|  4.1 and up|\n",
            "|350 Diy Room Deco...|ART_AND_DESIGN|   4.5|     27| 17M|    10,000+|Free|    0|      Everyone|        Art & Design|  November 7, 2017|               1.0|  2.3 and up|\n",
            "|FlipaClip - Carto...|ART_AND_DESIGN|   4.3| 194216| 39M| 5,000,000+|Free|    0|      Everyone|        Art & Design|    August 3, 2018|             2.2.5|4.0.3 and up|\n",
            "|        ibis Paint X|ART_AND_DESIGN|   4.6| 224399| 31M|10,000,000+|Free|    0|      Everyone|        Art & Design|     July 30, 2018|             5.5.4|  4.1 and up|\n",
            "+--------------------+--------------+------+-------+----+-----------+----+-----+--------------+--------------------+------------------+------------------+------------+\n",
            "only showing top 20 rows\n",
            "\n"
          ]
        }
      ]
    },
    {
      "cell_type": "code",
      "source": [
        "#Getting total count\n",
        "\n",
        "df.count()"
      ],
      "metadata": {
        "colab": {
          "base_uri": "https://localhost:8080/"
        },
        "id": "qGUad9_6Nmu1",
        "outputId": "8a3dd705-4418-4996-941b-a5a7d49a356d"
      },
      "execution_count": 9,
      "outputs": [
        {
          "output_type": "execute_result",
          "data": {
            "text/plain": [
              "10841"
            ]
          },
          "metadata": {},
          "execution_count": 9
        }
      ]
    },
    {
      "cell_type": "code",
      "source": [
        "#First Row\n",
        "\n",
        "df.show(1)"
      ],
      "metadata": {
        "colab": {
          "base_uri": "https://localhost:8080/"
        },
        "id": "HE9BFoeKOjUd",
        "outputId": "41c350a9-7b62-4ac6-e4cb-92aef303152c"
      },
      "execution_count": 10,
      "outputs": [
        {
          "output_type": "stream",
          "name": "stdout",
          "text": [
            "+--------------------+--------------+------+-------+----+--------+----+-----+--------------+------------+---------------+-----------+------------+\n",
            "|                 App|      Category|Rating|Reviews|Size|Installs|Type|Price|Content Rating|      Genres|   Last Updated|Current Ver| Android Ver|\n",
            "+--------------------+--------------+------+-------+----+--------+----+-----+--------------+------------+---------------+-----------+------------+\n",
            "|Photo Editor & Ca...|ART_AND_DESIGN|   4.1|    159| 19M| 10,000+|Free|    0|      Everyone|Art & Design|January 7, 2018|      1.0.0|4.0.3 and up|\n",
            "+--------------------+--------------+------+-------+----+--------+----+-----+--------------+------------+---------------+-----------+------------+\n",
            "only showing top 1 row\n",
            "\n"
          ]
        }
      ]
    },
    {
      "cell_type": "markdown",
      "source": [
        "Check Schema"
      ],
      "metadata": {
        "id": "hdpNFzoxO8Hj"
      }
    },
    {
      "cell_type": "code",
      "source": [
        "df.printSchema()"
      ],
      "metadata": {
        "colab": {
          "base_uri": "https://localhost:8080/"
        },
        "id": "yJAJLEb0OyC4",
        "outputId": "aaf2f796-0964-4510-8331-49d8a74342bc"
      },
      "execution_count": 11,
      "outputs": [
        {
          "output_type": "stream",
          "name": "stdout",
          "text": [
            "root\n",
            " |-- App: string (nullable = true)\n",
            " |-- Category: string (nullable = true)\n",
            " |-- Rating: double (nullable = true)\n",
            " |-- Reviews: string (nullable = true)\n",
            " |-- Size: string (nullable = true)\n",
            " |-- Installs: string (nullable = true)\n",
            " |-- Type: string (nullable = true)\n",
            " |-- Price: string (nullable = true)\n",
            " |-- Content Rating: string (nullable = true)\n",
            " |-- Genres: string (nullable = true)\n",
            " |-- Last Updated: string (nullable = true)\n",
            " |-- Current Ver: string (nullable = true)\n",
            " |-- Android Ver: string (nullable = true)\n",
            "\n"
          ]
        }
      ]
    },
    {
      "cell_type": "markdown",
      "source": [
        "Data Cleaning"
      ],
      "metadata": {
        "id": "wrA5Qs-vPamq"
      }
    },
    {
      "cell_type": "code",
      "source": [
        "#dropping the columns which are not important\n",
        "\n",
        "df = df.drop('size','Content Rating','Last Updated','Current Ver','Android Ver')\n",
        "df.show(2)"
      ],
      "metadata": {
        "colab": {
          "base_uri": "https://localhost:8080/"
        },
        "id": "U6fI0NOOO-h2",
        "outputId": "f899501b-0465-4870-82f0-16139973e651"
      },
      "execution_count": 13,
      "outputs": [
        {
          "output_type": "stream",
          "name": "stdout",
          "text": [
            "+--------------------+--------------+------+-------+--------+----+-----+--------------------+\n",
            "|                 App|      Category|Rating|Reviews|Installs|Type|Price|              Genres|\n",
            "+--------------------+--------------+------+-------+--------+----+-----+--------------------+\n",
            "|Photo Editor & Ca...|ART_AND_DESIGN|   4.1|    159| 10,000+|Free|    0|        Art & Design|\n",
            "| Coloring book moana|ART_AND_DESIGN|   3.9|    967|500,000+|Free|    0|Art & Design;Pret...|\n",
            "+--------------------+--------------+------+-------+--------+----+-----+--------------------+\n",
            "only showing top 2 rows\n",
            "\n"
          ]
        }
      ]
    },
    {
      "cell_type": "code",
      "source": [
        "df.printSchema()"
      ],
      "metadata": {
        "colab": {
          "base_uri": "https://localhost:8080/"
        },
        "id": "05GZ5ZkeQ8W3",
        "outputId": "6b9cf6e5-24c7-4b46-82aa-28bbd788e079"
      },
      "execution_count": 15,
      "outputs": [
        {
          "output_type": "stream",
          "name": "stdout",
          "text": [
            "root\n",
            " |-- App: string (nullable = true)\n",
            " |-- Category: string (nullable = true)\n",
            " |-- Rating: double (nullable = true)\n",
            " |-- Reviews: string (nullable = true)\n",
            " |-- Installs: string (nullable = true)\n",
            " |-- Type: string (nullable = true)\n",
            " |-- Price: string (nullable = true)\n",
            " |-- Genres: string (nullable = true)\n",
            "\n"
          ]
        }
      ]
    },
    {
      "cell_type": "code",
      "source": [
        "#Changing schemas into proper format\n",
        "\n",
        "from pyspark.sql.functions import regexp_replace, col\n",
        "\n",
        "regex_pattern = r'^\\d*\\.?\\d+$'\n",
        "\n",
        "df = df.withColumn('Reviews',col('Reviews').cast(IntegerType()))\\\n",
        ".withColumn('Installs',regexp_replace(col('Installs'),\"[^0-9]\",\"\"))\\\n",
        ".withColumn('Installs',col('Installs').cast(IntegerType()))\\\n",
        ".withColumn('Price',regexp_replace(col('Price'),\"[$]\",\"\"))\\\n",
        ".withColumn('Price',col('Price').cast(IntegerType()))\\\n",
        ".filter(col('Rating').rlike(regex_pattern))\\\n",
        ".withColumn('Rating',col('Rating').cast(DoubleType())).filter(col('Rating').isNotNull())"
      ],
      "metadata": {
        "id": "inwXMNs9Pulj"
      },
      "execution_count": 52,
      "outputs": []
    },
    {
      "cell_type": "code",
      "source": [
        "df.show()"
      ],
      "metadata": {
        "colab": {
          "base_uri": "https://localhost:8080/"
        },
        "id": "qAnHwmDHSqEl",
        "outputId": "d7a21d71-e6f9-450a-8dea-cb5f3526244c"
      },
      "execution_count": 53,
      "outputs": [
        {
          "output_type": "stream",
          "name": "stdout",
          "text": [
            "+--------------------+--------------+------+-------+--------+----+-----+--------------------+\n",
            "|                 App|      Category|Rating|Reviews|Installs|Type|Price|              Genres|\n",
            "+--------------------+--------------+------+-------+--------+----+-----+--------------------+\n",
            "|Photo Editor & Ca...|ART_AND_DESIGN|   4.1|    159|   10000|Free|    0|        Art & Design|\n",
            "| Coloring book moana|ART_AND_DESIGN|   3.9|    967|  500000|Free|    0|Art & Design;Pret...|\n",
            "|U Launcher Lite –...|ART_AND_DESIGN|   4.7|  87510| 5000000|Free|    0|        Art & Design|\n",
            "|Sketch - Draw & P...|ART_AND_DESIGN|   4.5| 215644|50000000|Free|    0|        Art & Design|\n",
            "|Pixel Draw - Numb...|ART_AND_DESIGN|   4.3|    967|  100000|Free|    0|Art & Design;Crea...|\n",
            "|Paper flowers ins...|ART_AND_DESIGN|   4.4|    167|   50000|Free|    0|        Art & Design|\n",
            "|Smoke Effect Phot...|ART_AND_DESIGN|   3.8|    178|   50000|Free|    0|        Art & Design|\n",
            "|    Infinite Painter|ART_AND_DESIGN|   4.1|  36815| 1000000|Free|    0|        Art & Design|\n",
            "|Garden Coloring Book|ART_AND_DESIGN|   4.4|  13791| 1000000|Free|    0|        Art & Design|\n",
            "|Kids Paint Free -...|ART_AND_DESIGN|   4.7|    121|   10000|Free|    0|Art & Design;Crea...|\n",
            "|Text on Photo - F...|ART_AND_DESIGN|   4.4|  13880| 1000000|Free|    0|        Art & Design|\n",
            "|Name Art Photo Ed...|ART_AND_DESIGN|   4.4|   8788| 1000000|Free|    0|        Art & Design|\n",
            "|Tattoo Name On My...|ART_AND_DESIGN|   4.2|  44829|10000000|Free|    0|        Art & Design|\n",
            "|Mandala Coloring ...|ART_AND_DESIGN|   4.6|   4326|  100000|Free|    0|        Art & Design|\n",
            "|3D Color Pixel by...|ART_AND_DESIGN|   4.4|   1518|  100000|Free|    0|        Art & Design|\n",
            "|Learn To Draw Kaw...|ART_AND_DESIGN|   3.2|     55|    5000|Free|    0|        Art & Design|\n",
            "|Photo Designer - ...|ART_AND_DESIGN|   4.7|   3632|  500000|Free|    0|        Art & Design|\n",
            "|350 Diy Room Deco...|ART_AND_DESIGN|   4.5|     27|   10000|Free|    0|        Art & Design|\n",
            "|FlipaClip - Carto...|ART_AND_DESIGN|   4.3| 194216| 5000000|Free|    0|        Art & Design|\n",
            "|        ibis Paint X|ART_AND_DESIGN|   4.6| 224399|10000000|Free|    0|        Art & Design|\n",
            "+--------------------+--------------+------+-------+--------+----+-----+--------------------+\n",
            "only showing top 20 rows\n",
            "\n"
          ]
        }
      ]
    },
    {
      "cell_type": "code",
      "source": [
        "#Verifying schema changes\n",
        "\n",
        "df.printSchema()"
      ],
      "metadata": {
        "colab": {
          "base_uri": "https://localhost:8080/"
        },
        "id": "HG418Ju0SraW",
        "outputId": "07757039-5507-4a01-f8f6-c3081d0d8b19"
      },
      "execution_count": 54,
      "outputs": [
        {
          "output_type": "stream",
          "name": "stdout",
          "text": [
            "root\n",
            " |-- App: string (nullable = true)\n",
            " |-- Category: string (nullable = true)\n",
            " |-- Rating: double (nullable = true)\n",
            " |-- Reviews: integer (nullable = true)\n",
            " |-- Installs: integer (nullable = true)\n",
            " |-- Type: string (nullable = true)\n",
            " |-- Price: integer (nullable = true)\n",
            " |-- Genres: string (nullable = true)\n",
            "\n"
          ]
        }
      ]
    },
    {
      "cell_type": "code",
      "source": [
        "df.select(\"*\").show()"
      ],
      "metadata": {
        "colab": {
          "base_uri": "https://localhost:8080/"
        },
        "id": "weLiPjKcSzUN",
        "outputId": "6dda7866-7764-4c3d-cfde-fc5ed236160a"
      },
      "execution_count": 21,
      "outputs": [
        {
          "output_type": "stream",
          "name": "stdout",
          "text": [
            "+--------------------+--------------+------+-------+--------+----+-----+--------------------+\n",
            "|                 App|      Category|Rating|Reviews|Installs|Type|Price|              Genres|\n",
            "+--------------------+--------------+------+-------+--------+----+-----+--------------------+\n",
            "|Photo Editor & Ca...|ART_AND_DESIGN|   4.1|    159|   10000|Free|    0|        Art & Design|\n",
            "| Coloring book moana|ART_AND_DESIGN|   3.9|    967|  500000|Free|    0|Art & Design;Pret...|\n",
            "|U Launcher Lite –...|ART_AND_DESIGN|   4.7|  87510| 5000000|Free|    0|        Art & Design|\n",
            "|Sketch - Draw & P...|ART_AND_DESIGN|   4.5| 215644|50000000|Free|    0|        Art & Design|\n",
            "|Pixel Draw - Numb...|ART_AND_DESIGN|   4.3|    967|  100000|Free|    0|Art & Design;Crea...|\n",
            "|Paper flowers ins...|ART_AND_DESIGN|   4.4|    167|   50000|Free|    0|        Art & Design|\n",
            "|Smoke Effect Phot...|ART_AND_DESIGN|   3.8|    178|   50000|Free|    0|        Art & Design|\n",
            "|    Infinite Painter|ART_AND_DESIGN|   4.1|  36815| 1000000|Free|    0|        Art & Design|\n",
            "|Garden Coloring Book|ART_AND_DESIGN|   4.4|  13791| 1000000|Free|    0|        Art & Design|\n",
            "|Kids Paint Free -...|ART_AND_DESIGN|   4.7|    121|   10000|Free|    0|Art & Design;Crea...|\n",
            "|Text on Photo - F...|ART_AND_DESIGN|   4.4|  13880| 1000000|Free|    0|        Art & Design|\n",
            "|Name Art Photo Ed...|ART_AND_DESIGN|   4.4|   8788| 1000000|Free|    0|        Art & Design|\n",
            "|Tattoo Name On My...|ART_AND_DESIGN|   4.2|  44829|10000000|Free|    0|        Art & Design|\n",
            "|Mandala Coloring ...|ART_AND_DESIGN|   4.6|   4326|  100000|Free|    0|        Art & Design|\n",
            "|3D Color Pixel by...|ART_AND_DESIGN|   4.4|   1518|  100000|Free|    0|        Art & Design|\n",
            "|Learn To Draw Kaw...|ART_AND_DESIGN|   3.2|     55|    5000|Free|    0|        Art & Design|\n",
            "|Photo Designer - ...|ART_AND_DESIGN|   4.7|   3632|  500000|Free|    0|        Art & Design|\n",
            "|350 Diy Room Deco...|ART_AND_DESIGN|   4.5|     27|   10000|Free|    0|        Art & Design|\n",
            "|FlipaClip - Carto...|ART_AND_DESIGN|   4.3| 194216| 5000000|Free|    0|        Art & Design|\n",
            "|        ibis Paint X|ART_AND_DESIGN|   4.6| 224399|10000000|Free|    0|        Art & Design|\n",
            "+--------------------+--------------+------+-------+--------+----+-----+--------------------+\n",
            "only showing top 20 rows\n",
            "\n"
          ]
        }
      ]
    },
    {
      "cell_type": "markdown",
      "source": [
        "Top most reviewed Apps"
      ],
      "metadata": {
        "id": "ZG1pJzG3Wfdv"
      }
    },
    {
      "cell_type": "code",
      "source": [
        "top_reviewed_apps = df.groupBy('App')\\\n",
        ".agg(sum(\"Reviews\").alias(\"total_reviews\"))\\\n",
        ".orderBy(col(\"total_reviews\").desc())\n",
        "\n",
        "top_reviewed_apps.show(10,truncate=False) #Top 10 reviewed apps"
      ],
      "metadata": {
        "colab": {
          "base_uri": "https://localhost:8080/"
        },
        "id": "cdGBICj8U6ML",
        "outputId": "58d07390-e2b9-4684-dee5-fe7dcf919cec"
      },
      "execution_count": 30,
      "outputs": [
        {
          "output_type": "stream",
          "name": "stdout",
          "text": [
            "+----------------------------------------+-------------+\n",
            "|App                                     |total_reviews|\n",
            "+----------------------------------------+-------------+\n",
            "|Instagram                               |266241989    |\n",
            "|WhatsApp Messenger                      |207348304    |\n",
            "|Clash of Clans                          |179558781    |\n",
            "|Messenger – Text and Video Chat for Free|169932272    |\n",
            "|Subway Surfers                          |166331958    |\n",
            "|Candy Crush Saga                        |156993136    |\n",
            "|Facebook                                |156286514    |\n",
            "|8 Ball Pool                             |99386198     |\n",
            "|Clash Royale                            |92530298     |\n",
            "|Snapchat                                |68045010     |\n",
            "+----------------------------------------+-------------+\n",
            "only showing top 10 rows\n",
            "\n"
          ]
        }
      ]
    },
    {
      "cell_type": "markdown",
      "source": [
        "Top 10 installed Apps"
      ],
      "metadata": {
        "id": "sg7VunawZA62"
      }
    },
    {
      "cell_type": "code",
      "source": [
        "top_installed_apps = df.groupBy('App','Type')\\\n",
        ".agg(sum('Installs').alias('total_installs'))\\\n",
        ".orderBy(col(\"total_installs\").desc())\n",
        "\n",
        "top_installed_apps.show(10, truncate = False) #top 10 installed apps"
      ],
      "metadata": {
        "colab": {
          "base_uri": "https://localhost:8080/"
        },
        "id": "98zgypDPWQf_",
        "outputId": "607110a7-91fa-4ef7-c75b-5ecd33f9aa49"
      },
      "execution_count": 41,
      "outputs": [
        {
          "output_type": "stream",
          "name": "stdout",
          "text": [
            "+------------------+----+--------------+\n",
            "|App               |Type|total_installs|\n",
            "+------------------+----+--------------+\n",
            "|Subway Surfers    |Free|6000000000    |\n",
            "|Instagram         |Free|4000000000    |\n",
            "|Google Drive      |Free|4000000000    |\n",
            "|Hangouts          |Free|4000000000    |\n",
            "|Google Photos     |Free|4000000000    |\n",
            "|Google News       |Free|4000000000    |\n",
            "|Candy Crush Saga  |Free|3500000000    |\n",
            "|WhatsApp Messenger|Free|3000000000    |\n",
            "|Gmail             |Free|3000000000    |\n",
            "|Temple Run 2      |Free|3000000000    |\n",
            "+------------------+----+--------------+\n",
            "only showing top 10 rows\n",
            "\n"
          ]
        }
      ]
    },
    {
      "cell_type": "markdown",
      "source": [
        "Category wise distribution of installed apps"
      ],
      "metadata": {
        "id": "TKN8eUIacIyX"
      }
    },
    {
      "cell_type": "code",
      "source": [
        "category_dist_apps = df.groupBy('Category')\\\n",
        ".agg(sum('Installs').alias('total_installs'))\\\n",
        ".orderBy(col('total_installs').desc())\n",
        "\n",
        "#category_dist_apps.show(n = category_dist_apps.count(),truncate = False)\n",
        "category_dist_apps.show(10,truncate = False) #top 10 categories"
      ],
      "metadata": {
        "colab": {
          "base_uri": "https://localhost:8080/"
        },
        "id": "zA-iL5A8ZmKu",
        "outputId": "26b1030c-c7fe-45b5-b16a-3ac7e2fe19ab"
      },
      "execution_count": 45,
      "outputs": [
        {
          "output_type": "stream",
          "name": "stdout",
          "text": [
            "+------------------+--------------+\n",
            "|Category          |total_installs|\n",
            "+------------------+--------------+\n",
            "|GAME              |35086024415   |\n",
            "|COMMUNICATION     |32647276251   |\n",
            "|PRODUCTIVITY      |14176091369   |\n",
            "|SOCIAL            |14069867902   |\n",
            "|TOOLS             |11452771915   |\n",
            "|FAMILY            |10258263505   |\n",
            "|PHOTOGRAPHY       |10088247655   |\n",
            "|NEWS_AND_MAGAZINES|7496317760    |\n",
            "|TRAVEL_AND_LOCAL  |6868887146    |\n",
            "|VIDEO_PLAYERS     |6222002720    |\n",
            "+------------------+--------------+\n",
            "only showing top 10 rows\n",
            "\n"
          ]
        }
      ]
    },
    {
      "cell_type": "markdown",
      "source": [
        "Expensive Apps"
      ],
      "metadata": {
        "id": "3GDO0RG8daHD"
      }
    },
    {
      "cell_type": "code",
      "source": [
        "expensive_apps = df.groupBy('App')\\\n",
        ".agg(sum('Price').alias('Price'))\\\n",
        ".orderBy(col('Price').desc())\n",
        "\n",
        "expensive_apps.show(10, truncate = False)"
      ],
      "metadata": {
        "colab": {
          "base_uri": "https://localhost:8080/"
        },
        "id": "BcBvCxkecMCd",
        "outputId": "382e0b35-702f-4b23-8938-19be1907b211"
      },
      "execution_count": 49,
      "outputs": [
        {
          "output_type": "stream",
          "name": "stdout",
          "text": [
            "+-------------------------------------+-----+\n",
            "|App                                  |Price|\n",
            "+-------------------------------------+-----+\n",
            "|I'm Rich - Trump Edition             |400  |\n",
            "|most expensive app (H)               |399  |\n",
            "|I am Rich                            |399  |\n",
            "|I AM RICH PRO PLUS                   |399  |\n",
            "|I am rich(premium)                   |399  |\n",
            "|I am Rich Plus                       |399  |\n",
            "|I'm Rich/Eu sou Rico/أنا غني/我很有錢|399  |\n",
            "|I Am Rich Premium                    |399  |\n",
            "|I Am Rich Pro                        |399  |\n",
            "|I am Rich!                           |399  |\n",
            "+-------------------------------------+-----+\n",
            "only showing top 10 rows\n",
            "\n"
          ]
        }
      ]
    },
    {
      "cell_type": "markdown",
      "source": [
        "Top rating in paid Apps"
      ],
      "metadata": {
        "id": "yvLrhgLLetA2"
      }
    },
    {
      "cell_type": "code",
      "source": [
        "filtered_df = df.filter(col('Type')=='Paid')\n",
        "\n",
        "top_rated_paid = filtered_df.groupBy('App')\\\n",
        ".agg(avg('Rating').alias('average_rating'))\\\n",
        ".orderBy(col('average_rating').desc())\n",
        "\n",
        "top_rated_paid.show(30, truncate = False)"
      ],
      "metadata": {
        "colab": {
          "base_uri": "https://localhost:8080/"
        },
        "id": "pwpH30OXdb5R",
        "outputId": "e39c21cb-1310-4a3d-c577-d61e7f61b3c5"
      },
      "execution_count": 56,
      "outputs": [
        {
          "output_type": "stream",
          "name": "stdout",
          "text": [
            "+--------------------------------------------------+--------------+\n",
            "|App                                               |average_rating|\n",
            "+--------------------------------------------------+--------------+\n",
            "|Morse Player                                      |5.0           |\n",
            "|AJ Gray Dark Icon Pack                            |5.0           |\n",
            "|Hey AJ! It's Bedtime!                             |5.0           |\n",
            "|AP Art History Flashcards                         |5.0           |\n",
            "|P-Home for KLWP                                   |5.0           |\n",
            "|Easy Hotspot Ad Free                              |5.0           |\n",
            "|DL Image Manager                                  |5.0           |\n",
            "|FHR 5-Tier 2.0                                    |5.0           |\n",
            "|Super Hearing Secret Voices Recorder PRO          |5.0           |\n",
            "|AJ Blue Icon Pack                                 |5.0           |\n",
            "|Mu.F.O.                                           |5.0           |\n",
            "|30WPM Amateur ham radio Koch CW Morse code trainer|5.0           |\n",
            "|AC DC Power Monitor                               |5.0           |\n",
            "|Ra Ga Ba                                          |5.0           |\n",
            "|TI-84 CE Graphing Calculator Manual TI 84         |5.0           |\n",
            "|meStudying: AP English Lit                        |5.0           |\n",
            "|CI 174 Gray Icon Pack                             |5.0           |\n",
            "|Santa's Monster Shootout DX                       |5.0           |\n",
            "|ADS-B Driver                                      |5.0           |\n",
            "|RETRO Shocked DW-6000                             |5.0           |\n",
            "|211:CK                                            |5.0           |\n",
            "|Android P Style Icon Pack                         |5.0           |\n",
            "|BC MVA Fines                                      |5.0           |\n",
            "|USMLE Step 2 CK Flashcards                        |5.0           |\n",
            "|FO Bixby                                          |5.0           |\n",
            "|Hey AJ! It's Saturday!                            |5.0           |\n",
            "|CA Speakers                                       |5.0           |\n",
            "|Chronolink DX                                     |5.0           |\n",
            "|H*nest Meditation                                 |4.9           |\n",
            "|The Room: Old Sins                                |4.9           |\n",
            "+--------------------------------------------------+--------------+\n",
            "only showing top 30 rows\n",
            "\n"
          ]
        }
      ]
    },
    {
      "cell_type": "code",
      "source": [],
      "metadata": {
        "id": "BbuDyU2cfpqN"
      },
      "execution_count": null,
      "outputs": []
    }
  ]
}